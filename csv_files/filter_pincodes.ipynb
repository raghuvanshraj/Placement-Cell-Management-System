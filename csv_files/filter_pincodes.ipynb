{
 "cells": [
  {
   "cell_type": "code",
   "execution_count": 1,
   "metadata": {},
   "outputs": [],
   "source": [
    "import pandas as pd"
   ]
  },
  {
   "cell_type": "code",
   "execution_count": 2,
   "metadata": {},
   "outputs": [],
   "source": [
    "indian_pincodes = pd.read_csv('indian_pincodes.csv')"
   ]
  },
  {
   "cell_type": "code",
   "execution_count": 9,
   "metadata": {},
   "outputs": [],
   "source": [
    "indian_pincodes.dropna(inplace=True)"
   ]
  },
  {
   "cell_type": "code",
   "execution_count": 10,
   "metadata": {},
   "outputs": [
    {
     "data": {
      "text/plain": [
       "(32919, 3)"
      ]
     },
     "execution_count": 10,
     "metadata": {},
     "output_type": "execute_result"
    }
   ],
   "source": [
    "indian_pincodes.shape"
   ]
  },
  {
   "cell_type": "code",
   "execution_count": 12,
   "metadata": {},
   "outputs": [
    {
     "data": {
      "text/plain": [
       "array(['ANDAMAN & NICOBAR ISLANDS', 'ANDHRA PRADESH', 'ARUNACHAL PRADESH',\n",
       "       'ASSAM', 'Dibrugarh', 'BIHAR', 'Gopalganj', 'CHANDIGARH',\n",
       "       'CHATTISGARH', 'DADRA & NAGAR HAVELI', 'DAMAN & DIU', 'DELHI',\n",
       "       'GOA', 'GUJARAT', 'HARYANA', 'Haryana', 'HIMACHAL PRADESH',\n",
       "       'JAMMU & KASHMIR', 'Kargil', 'JHARKHAND', 'KARNATAKA',\n",
       "       'Vijayapura', 'KERALA', 'LAKSHADWEEP', 'MADHYA PRADESH',\n",
       "       'MAHARASHTRA', 'MANIPUR', 'Imphal West', 'Thoubal', 'MEGHALAYA',\n",
       "       'Jaintia Hills', 'MIZORAM', 'NAGALAND', 'ODISHA', 'PONDICHERRY',\n",
       "       'PUNJAB', 'RAJASTHAN', 'Barmer', 'Jhujhunu', 'SIKKIM',\n",
       "       'TAMIL NADU', 'Tirunelveli', 'Kanchipuram', 'TELANGANA', 'TRIPURA',\n",
       "       'UTTAR PRADESH', 'Ballia', 'Varanasi', 'UTTARAKHAND',\n",
       "       'WEST BENGAL'], dtype=object)"
      ]
     },
     "execution_count": 12,
     "metadata": {},
     "output_type": "execute_result"
    }
   ],
   "source": [
    "indian_pincodes.STATE.unique()"
   ]
  },
  {
   "cell_type": "code",
   "execution_count": 18,
   "metadata": {},
   "outputs": [],
   "source": [
    "indian_pincodes_filtered = indian_pincodes[(indian_pincodes.STATE == 'DELHI') | (indian_pincodes.STATE == 'HARYANA')]"
   ]
  },
  {
   "cell_type": "code",
   "execution_count": 19,
   "metadata": {},
   "outputs": [
    {
     "data": {
      "text/plain": [
       "(736, 3)"
      ]
     },
     "execution_count": 19,
     "metadata": {},
     "output_type": "execute_result"
    }
   ],
   "source": [
    "indian_pincodes_filtered.shape"
   ]
  },
  {
   "cell_type": "code",
   "execution_count": 20,
   "metadata": {},
   "outputs": [
    {
     "data": {
      "text/html": [
       "<div>\n",
       "<style scoped>\n",
       "    .dataframe tbody tr th:only-of-type {\n",
       "        vertical-align: middle;\n",
       "    }\n",
       "\n",
       "    .dataframe tbody tr th {\n",
       "        vertical-align: top;\n",
       "    }\n",
       "\n",
       "    .dataframe thead th {\n",
       "        text-align: right;\n",
       "    }\n",
       "</style>\n",
       "<table border=\"1\" class=\"dataframe\">\n",
       "  <thead>\n",
       "    <tr style=\"text-align: right;\">\n",
       "      <th></th>\n",
       "      <th>PINCODE</th>\n",
       "      <th>CITY</th>\n",
       "      <th>STATE</th>\n",
       "    </tr>\n",
       "  </thead>\n",
       "  <tbody>\n",
       "    <tr>\n",
       "      <th>5867</th>\n",
       "      <td>110064</td>\n",
       "      <td>New Delhi</td>\n",
       "      <td>DELHI</td>\n",
       "    </tr>\n",
       "    <tr>\n",
       "      <th>5868</th>\n",
       "      <td>110055</td>\n",
       "      <td>New Delhi</td>\n",
       "      <td>DELHI</td>\n",
       "    </tr>\n",
       "    <tr>\n",
       "      <th>5869</th>\n",
       "      <td>110001</td>\n",
       "      <td>New Delhi</td>\n",
       "      <td>DELHI</td>\n",
       "    </tr>\n",
       "    <tr>\n",
       "      <th>5870</th>\n",
       "      <td>110011</td>\n",
       "      <td>New Delhi</td>\n",
       "      <td>DELHI</td>\n",
       "    </tr>\n",
       "    <tr>\n",
       "      <th>5871</th>\n",
       "      <td>110004</td>\n",
       "      <td>New Delhi</td>\n",
       "      <td>DELHI</td>\n",
       "    </tr>\n",
       "  </tbody>\n",
       "</table>\n",
       "</div>"
      ],
      "text/plain": [
       "     PINCODE       CITY  STATE\n",
       "5867  110064  New Delhi  DELHI\n",
       "5868  110055  New Delhi  DELHI\n",
       "5869  110001  New Delhi  DELHI\n",
       "5870  110011  New Delhi  DELHI\n",
       "5871  110004  New Delhi  DELHI"
      ]
     },
     "execution_count": 20,
     "metadata": {},
     "output_type": "execute_result"
    }
   ],
   "source": [
    "indian_pincodes_filtered.head()"
   ]
  },
  {
   "cell_type": "code",
   "execution_count": 21,
   "metadata": {},
   "outputs": [],
   "source": [
    "indian_pincodes_filtered.to_csv('pincodes_delhi_haryana.csv', index=False)"
   ]
  },
  {
   "cell_type": "code",
   "execution_count": null,
   "metadata": {},
   "outputs": [],
   "source": []
  }
 ],
 "metadata": {
  "kernelspec": {
   "display_name": "Python 3",
   "language": "python",
   "name": "python3"
  },
  "language_info": {
   "codemirror_mode": {
    "name": "ipython",
    "version": 3
   },
   "file_extension": ".py",
   "mimetype": "text/x-python",
   "name": "python",
   "nbconvert_exporter": "python",
   "pygments_lexer": "ipython3",
   "version": "3.6.5"
  }
 },
 "nbformat": 4,
 "nbformat_minor": 2
}
